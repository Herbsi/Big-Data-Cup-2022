{
  "cells": [
    {
      "cell_type": "markdown",
      "metadata": {
        "id": "view-in-github",
        "colab_type": "text"
      },
      "source": [
        "<a href=\"https://colab.research.google.com/github/the-bucketless/bdc/blob/main/bdc_tracking_animation.ipynb\" target=\"_parent\"><img src=\"https://colab.research.google.com/assets/colab-badge.svg\" alt=\"Open In Colab\"/></a>"
      ]
    },
    {
      "cell_type": "markdown",
      "metadata": {
        "id": "i8rdkIIWYZMp"
      },
      "source": [
        "# Animation Example for BDC Tracking Data"
      ]
    },
    {
      "cell_type": "markdown",
      "metadata": {
        "id": "hbfa-HDSYfod"
      },
      "source": [
        "This is intended as a quick example of how you can use the [hockey rink](https://github.com/the-bucketless/hockey_rink) package to create animations with the [Big Data Cup tracking data](https://github.com/bigdatacup/Big-Data-Cup-2021/tree/main/TrackingData).  \n",
        "We'll start by installing the package."
      ]
    },
    {
      "cell_type": "code",
      "execution_count": 1,
      "metadata": {
        "colab": {
          "base_uri": "https://localhost:8080/"
        },
        "id": "Gy9IOhPcRBpj",
        "outputId": "2ce29745-8314-47eb-be5c-1f876fe178bf"
      },
      "outputs": [
        {
          "output_type": "stream",
          "name": "stdout",
          "text": [
            "Collecting hockey-rink\n",
            "  Downloading hockey_rink-0.1.6.tar.gz (34 kB)\n",
            "Requirement already satisfied: matplotlib in /usr/local/lib/python3.7/dist-packages (from hockey-rink) (3.2.2)\n",
            "Requirement already satisfied: numpy in /usr/local/lib/python3.7/dist-packages (from hockey-rink) (1.21.5)\n",
            "Requirement already satisfied: scipy in /usr/local/lib/python3.7/dist-packages (from hockey-rink) (1.4.1)\n",
            "Requirement already satisfied: kiwisolver>=1.0.1 in /usr/local/lib/python3.7/dist-packages (from matplotlib->hockey-rink) (1.4.0)\n",
            "Requirement already satisfied: cycler>=0.10 in /usr/local/lib/python3.7/dist-packages (from matplotlib->hockey-rink) (0.11.0)\n",
            "Requirement already satisfied: python-dateutil>=2.1 in /usr/local/lib/python3.7/dist-packages (from matplotlib->hockey-rink) (2.8.2)\n",
            "Requirement already satisfied: pyparsing!=2.0.4,!=2.1.2,!=2.1.6,>=2.0.1 in /usr/local/lib/python3.7/dist-packages (from matplotlib->hockey-rink) (3.0.7)\n",
            "Requirement already satisfied: typing-extensions in /usr/local/lib/python3.7/dist-packages (from kiwisolver>=1.0.1->matplotlib->hockey-rink) (3.10.0.2)\n",
            "Requirement already satisfied: six>=1.5 in /usr/local/lib/python3.7/dist-packages (from python-dateutil>=2.1->matplotlib->hockey-rink) (1.15.0)\n",
            "Building wheels for collected packages: hockey-rink\n",
            "  Building wheel for hockey-rink (setup.py) ... \u001b[?25l\u001b[?25hdone\n",
            "  Created wheel for hockey-rink: filename=hockey_rink-0.1.6-py3-none-any.whl size=34688 sha256=2eb15c2c05a3046a26aa23f91b27c7f400a922143497ad6d0207dd05c730fc72\n",
            "  Stored in directory: /root/.cache/pip/wheels/8d/84/a1/c6810468585880653548efcb0dc38ed3a8987efc5f6d3c52b7\n",
            "Successfully built hockey-rink\n",
            "Installing collected packages: hockey-rink\n",
            "Successfully installed hockey-rink-0.1.6\n"
          ]
        }
      ],
      "source": [
        "!pip install hockey-rink"
      ]
    },
    {
      "cell_type": "markdown",
      "metadata": {
        "id": "w2fE1nufZIrR"
      },
      "source": [
        "I recently added a rink specifically for the Big Data Cup, so that's what we'll work with.  \n",
        "\n",
        "Additionally, we'll need:\n",
        "- Image from IPython.display to view the gif of our animation\n",
        "- pandas to grab the csv\n",
        "- tqdm to give us a progress bar\n",
        "- matplotlib to do the actual work on the animation"
      ]
    },
    {
      "cell_type": "code",
      "execution_count": 2,
      "metadata": {
        "id": "RmpbmgbQRDtx"
      },
      "outputs": [],
      "source": [
        "from hockey_rink import BDCRink\n",
        "\n",
        "from IPython.display import Image\n",
        "import pandas as pd\n",
        "from tqdm import tqdm\n",
        "\n",
        "from matplotlib import rc\n",
        "import matplotlib.animation as animation\n",
        "import matplotlib.pyplot as plt\n",
        "\n",
        "rc(\"animation\", html=\"html5\")"
      ]
    },
    {
      "cell_type": "markdown",
      "metadata": {
        "id": "1_aGn6FvZtDG"
      },
      "source": [
        "Seeing as I've spent so much time cleaning the data, let's grab a file from my [repo](https://github.com/the-bucketless/bdc/tree/main/data). You can change the values here to whatever file you want to work with, though you should make sure it's available."
      ]
    },
    {
      "cell_type": "code",
      "execution_count": 3,
      "metadata": {
        "id": "rypHhBJND5Is"
      },
      "outputs": [],
      "source": [
        "game_name = \"2022-02-14 USA at Finland\" #@param [\"2022-02-08 Canada at USA\", \"2022-02-08 ROC at Finland\", \"2022-02-12 Switzerland at ROC\", \"2022-02-14 USA at Finland\", \"2022-02-14 Switzerland at Canada\", \"2022-02-16 Switzerland at Finland\"]\n",
        "period = 3 #@param {type: \"integer\"}\n",
        "penalty_number = 5 #@param {type: \"integer\"}"
      ]
    },
    {
      "cell_type": "code",
      "execution_count": 4,
      "metadata": {
        "id": "p57cOST6RXN_"
      },
      "outputs": [],
      "source": [
        "repo_game = game_name.replace(\" \", \"%20\")\n",
        "df = pd.read_csv(\n",
        "    \"https://raw.githubusercontent.com/the-bucketless/bdc/main/data/\"\n",
        "    f\"{repo_game}/{repo_game}%20P{period}%20PP{penalty_number}.csv\"\n",
        ")"
      ]
    },
    {
      "cell_type": "markdown",
      "metadata": {
        "id": "9ryqBmO1aBUn"
      },
      "source": [
        "Because I added the rink to the package, we shouldn't need to update any of its parameters."
      ]
    },
    {
      "cell_type": "code",
      "execution_count": 5,
      "metadata": {
        "id": "_lfq95eMRud_"
      },
      "outputs": [],
      "source": [
        "rink = BDCRink()"
      ]
    },
    {
      "cell_type": "markdown",
      "metadata": {
        "id": "KDtrvstqan_2"
      },
      "source": [
        "Before we do the animation, we'll do a plot to see what we're going for. The plot should have colored dots for each player on each team with jersey numbers alongside them. We'll ensure coordinates stay within the bounds of the rink, though they could end up outside if they're in the corners.  "
      ]
    },
    {
      "cell_type": "code",
      "execution_count": 6,
      "metadata": {
        "id": "_PY3jDlOI_NZ"
      },
      "outputs": [],
      "source": [
        "light_jersey = \"white\" #@param {type: \"string\"}\n",
        "dark_jersey = \"blue\" #@param {type: \"string\"}"
      ]
    },
    {
      "cell_type": "code",
      "execution_count": 7,
      "metadata": {
        "colab": {
          "base_uri": "https://localhost:8080/",
          "height": 194
        },
        "id": "XUxbmypBSMHz",
        "outputId": "c122c39e-b220-41e7-b7f0-5f72b012537c"
      },
      "outputs": [
        {
          "output_type": "display_data",
          "data": {
            "text/plain": [
              "<Figure size 504x216 with 1 Axes>"
            ],
            "image/png": "[encoded data removed]"
          },
          "metadata": {
            "needs_background": "light"
          }
        }
      ],
      "source": [
        "team_colors = {\"Light\": light_jersey, \"Dark\": dark_jersey}\n",
        "\n",
        "# using the first frame_id of the given dataframe\n",
        "frame_df = df.loc[df.frame_id == df.frame_id.iloc[0], :]\n",
        "\n",
        "xs = frame_df.x_ft.clip(lower=0, upper=200)\n",
        "ys = frame_df.y_ft.clip(lower=0, upper=85)\n",
        "color = frame_df.team_id.map(team_colors)\n",
        "txts = frame_df.jersey_number\n",
        "\n",
        "fig = plt.figure(figsize=(7, 3))\n",
        "ax = rink.draw()\n",
        "rink.scatter(xs, ys, c=color, s=80, edgecolor=\"black\", is_constrained=False, zorder=101);\n",
        "for x, y, txt in zip(xs, ys, txts):\n",
        "    ax.text(*rink.convert_xy(x, y), txt, fontsize=14, zorder=102)"
      ]
    },
    {
      "cell_type": "markdown",
      "metadata": {
        "id": "n1UAAomXbS-C"
      },
      "source": [
        "To make this an animation, we pretty much just take the above and wrap it in the animation function so it can do multiple frames. To save time, we're going to avoid re-drawing the rink at each update. Instead of clearing everything on the Axes, we'll keep track of the scatterplot elements with a global variable which we'll remove at the subsequent update. We'll also clear all text objects from the Axes at each step."
      ]
    },
    {
      "cell_type": "code",
      "execution_count": 8,
      "metadata": {
        "id": "hSr7QT3T_mYV"
      },
      "outputs": [],
      "source": [
        "fig = plt.figure(figsize=(7, 3))\n",
        "fig.set_facecolor(\"white\")\n",
        "plt.subplots_adjust(left=0, bottom=0, right=1, top=1, wspace=0, hspace=0)\n",
        "\n",
        "ax = rink.draw()\n",
        "\n",
        "scatter = None\n",
        "\n",
        "\n",
        "def update(frame_id):\n",
        "    global scatter\n",
        "\n",
        "    # remove the previous scatter plot\n",
        "    if scatter is not None:\n",
        "        scatter.remove()\n",
        "\n",
        "    # remove any text previously added to the plot\n",
        "    ax.texts = []\n",
        "\n",
        "    frame_df = df.loc[df.frame_id == frame_id, :]\n",
        "    xs = frame_df.x_ft.clip(lower=0, upper=200)\n",
        "    ys = frame_df.y_ft.clip(lower=0, upper=98)\n",
        "    color = frame_df.team_id.map(team_colors)\n",
        "    txts = frame_df.jersey_number\n",
        "\n",
        "    scatter = rink.scatter(\n",
        "        xs, ys, c=color, edgecolor=\"black\", s=80, \n",
        "        is_constrained=False, zorder=101, ax=ax\n",
        "    )\n",
        "\n",
        "    for x, y, txt in zip(xs, ys, txts):\n",
        "        ax.text(*rink.convert_xy(x, y), txt, fontsize=14, zorder=102)\n",
        "\n",
        "plt.close()"
      ]
    },
    {
      "cell_type": "markdown",
      "metadata": {
        "id": "vHtJ3c5xKSxv"
      },
      "source": [
        "Before creating the animation, we can set a couple more parameters.\n",
        "- fps: frames per second. To use all the frames available, set this to 30. The higher the fps, the longer it'll take for things to run.\n",
        "- filename: for saving the animation as a gif. This won't save it locally, there'll be an option to download the file at the end of the notebook.\n",
        "- video_shot: if you don't want to include all video shots in the dataframe, set this to the one you want to use. To use all video shots, set this to 0 (or any value not found in the dataframe).\n"
      ]
    },
    {
      "cell_type": "code",
      "execution_count": 18,
      "metadata": {
        "id": "K7-h73rLCsO2"
      },
      "outputs": [],
      "source": [
        "fps = 6 #@param {type: \"integer\"}\n",
        "filename = \"bdc_animation_example\" #@param {type: \"string\"}\n",
        "video_shot = 0 #@param {type: \"integer\"}"
      ]
    },
    {
      "cell_type": "markdown",
      "metadata": {
        "id": "d6ooYcrJLowU"
      },
      "source": [
        "All right, we're ready to create the actual animation. We're going to save it as a gif which we'll view once it's created. I've included a progress bar to see how long things will take."
      ]
    },
    {
      "cell_type": "code",
      "execution_count": 16,
      "metadata": {
        "colab": {
          "base_uri": "https://localhost:8080/"
        },
        "id": "vwst3H5KBiRE",
        "outputId": "27043f46-d589-459b-dffc-bb6bff1f2dc8"
      },
      "outputs": [
        {
          "output_type": "stream",
          "name": "stderr",
          "text": [
            "100%|██████████| 183/183 [00:19<00:00,  9.29it/s]\n"
          ]
        }
      ],
      "source": [
        "video_shots = df.video_shot.unique()\n",
        "if video_shot in video_shots:\n",
        "    video_shots = [video_shot]\n",
        "\n",
        "step = 30 // fps\n",
        "frames = (\n",
        "    df.loc[df.video_shot.isin(video_shots), \"frame_id\"]\n",
        "    .unique()\n",
        "    [::step]\n",
        ")\n",
        "\n",
        "writer = animation.PillowWriter(fps=fps)\n",
        "anim = animation.FuncAnimation(fig, update, frames=frames, interval=1000 / fps)\n",
        "\n",
        "bar = tqdm(total=len(frames))\n",
        "anim.save(f\"{filename}.gif\", writer=writer, progress_callback=lambda i, n: bar.update(1))\n",
        "bar.close()"
      ]
    },
    {
      "cell_type": "markdown",
      "metadata": {
        "id": "2_2vc2mwbd-L"
      },
      "source": [
        "Finally, let's see what it looks like."
      ]
    },
    {
      "cell_type": "code",
      "execution_count": 19,
      "metadata": {
        "id": "-2wd6qG1Bt8o"
      },
      "outputs": [],
      "source": [
        "Image(open(f\"{filename}.gif\", \"rb\").read())"
      ]
    },
    {
      "cell_type": "markdown",
      "source": [
        "If you want a play/pause button or to download the file as an mp4, uncomment and run this cell (download by clicking on the three dots in the bottom right corner of the animation)."
      ],
      "metadata": {
        "id": "9fEB6pDsrwiu"
      }
    },
    {
      "cell_type": "code",
      "source": [
        "# anim"
      ],
      "metadata": {
        "id": "Qc5MVGBDrLFg"
      },
      "execution_count": 12,
      "outputs": []
    },
    {
      "cell_type": "markdown",
      "metadata": {
        "id": "qGvlcDfZMDaM"
      },
      "source": [
        "If you want to save the gif, you can either\n",
        "- Find it in the files section to the left.  \n",
        "or\n",
        "- Check the checkbox and run the following cells."
      ]
    },
    {
      "cell_type": "code",
      "execution_count": 13,
      "metadata": {
        "id": "9YE8hxp4M66D"
      },
      "outputs": [],
      "source": [
        "is_saving = False #@param {type: \"boolean\"}"
      ]
    },
    {
      "cell_type": "code",
      "execution_count": 14,
      "metadata": {
        "id": "9BwCOLCeBXR4"
      },
      "outputs": [],
      "source": [
        "if is_saving:\n",
        "    from google.colab import files\n",
        "    files.download(f\"{filename}.gif\")"
      ]
    },
    {
      "cell_type": "code",
      "execution_count": 14,
      "metadata": {
        "id": "thW-RSrLMZtx"
      },
      "outputs": [],
      "source": [
        ""
      ]
    }
  ],
  "metadata": {
    "colab": {
      "collapsed_sections": [],
      "name": "bdc_tracking_animation.ipynb",
      "provenance": [],
      "authorship_tag": "ABX9TyNgjsgdux3NnKNo12I0GFpD",
      "include_colab_link": true
    },
    "kernelspec": {
      "display_name": "Python 3",
      "name": "python3"
    },
    "language_info": {
      "name": "python"
    }
  },
  "nbformat": 4,
  "nbformat_minor": 0
}